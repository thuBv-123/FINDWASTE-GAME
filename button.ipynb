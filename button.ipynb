{
 "cells": [
  {
   "cell_type": "code",
   "execution_count": null,
   "metadata": {},
   "outputs": [],
   "source": [
    "import pygame\n",
    "# tạo lớp của các nút\n",
    "class Button():\n",
    "    def __init__(self,x,y, image,scale):\n",
    "        width = image.get_width()\n",
    "        height = image.get_height()\n",
    "        self.image = pygame.transform.scale(image,(int(width*scale),int(height*scale))) # chia tỉ lệ cho phù hợp\n",
    "        self.rect = self.image.get_rect() #lấy hình chữ nhật\n",
    "        self.rect.topleft = (x,y)\n",
    "\n",
    "    # tuy nhiên các nút vẫn ch hiện lên màn hình nên ta dùng phương thức vẽ lên nó:\n",
    "        self.clicked = False # ban đầu sẽ chuột sẽ ở trạng thái không được CLICK\n",
    "\n",
    "\n",
    "    def draw(self)  :\n",
    "        action = False\n",
    "\n",
    "\n",
    "        #lấy vị trí chuột:\n",
    "        pos = pygame.mouse.get_pos()\n",
    "       \n",
    "       # kiểm tra chuột và các điều kiện được nhấp chuột\n",
    "        if self.rect.collidepoint(pos):\n",
    "             if pygame.mouse.get_pressed()[0] == 1 and self.clicked == False:\n",
    "                  self.clicked = True\n",
    "                  action = True\n",
    "                  \n",
    "\n",
    "        if pygame.mouse.get_pressed()[0] == 0:\n",
    "             self.clicked = False       \n",
    "\n",
    "\n",
    "        # vẽ nút lên màn hình\n",
    "        screen.blit(self.image,(self.rect.x, self.rect.y))\n",
    "        \n",
    "        return action"
   ]
  }
 ],
 "metadata": {
  "kernelspec": {
   "display_name": "Python 3",
   "language": "python",
   "name": "python3"
  },
  "language_info": {
   "name": "python",
   "version": "3.12.7"
  }
 },
 "nbformat": 4,
 "nbformat_minor": 2
}
